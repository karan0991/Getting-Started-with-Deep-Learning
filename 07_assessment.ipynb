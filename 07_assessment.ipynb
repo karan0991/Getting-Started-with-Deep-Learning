{
 "cells": [
  {
   "cell_type": "markdown",
   "metadata": {},
   "source": [
    "<img src=\"./images/DLI_Header.png\" style=\"width: 400px;\">"
   ]
  },
  {
   "cell_type": "markdown",
   "metadata": {},
   "source": [
    "# Assessment"
   ]
  },
  {
   "cell_type": "markdown",
   "metadata": {},
   "source": [
    "Congratulations on going through today's course! Hopefully, you've learned some valuable skills along the way and had fun doing it. Now it's time to put those skills to the test. In this assessment, you will train a new model that is able to recognize fresh and rotten fruit. You will need to get the model to a validation accuracy of `92%` in order to pass the assessment, though we challenge you to do even better if you can. You will have the use the skills that you learned in the previous exercises. Specifically, we suggest using some combination of transfer learning, data augmentation, and fine tuning. Once you have trained the model to be at least 92% accurate on the validation dataset, save your model, and then assess its accuracy. Let's get started! "
   ]
  },
  {
   "cell_type": "markdown",
   "metadata": {},
   "source": [
    "## The Dataset"
   ]
  },
  {
   "cell_type": "markdown",
   "metadata": {},
   "source": [
    "In this exercise, you will train a model to recognize fresh and rotten fruits. The dataset comes from [Kaggle](https://www.kaggle.com/sriramr/fruits-fresh-and-rotten-for-classification), a great place to go if you're interested in starting a project after this class. The dataset structure is in the `data/fruits` folder. There are 6 categories of fruits: fresh apples, fresh oranges, fresh bananas, rotten apples, rotten oranges, and rotten bananas. This will mean that your model will require an output layer of 6 neurons to do the categorization successfully. You'll also need to compile the model with `categorical_crossentropy`, as we have more than two categories."
   ]
  },
  {
   "cell_type": "markdown",
   "metadata": {},
   "source": [
    "<img src=\"./images/fruits.png\" style=\"width: 600px;\">"
   ]
  },
  {
   "cell_type": "markdown",
   "metadata": {},
   "source": [
    "## Load ImageNet Base Model"
   ]
  },
  {
   "cell_type": "markdown",
   "metadata": {},
   "source": [
    "We encourage you to start with a model pretrained on ImageNet. Load the model with the correct weights, set an input shape, and choose to remove the last layers of the model. Remember that images have three dimensions: a height, and width, and a number of channels. Because these pictures are in color, there will be three channels for red, green, and blue. We've filled in the input shape for you. This cannot be changed or the assessment will fail. If you need a reference for setting up the pretrained model, please take a look at [notebook 05b](05b_presidential_doggy_door.ipynb) where we implemented transfer learning."
   ]
  },
  {
   "cell_type": "code",
   "execution_count": 1,
   "metadata": {},
   "outputs": [],
   "source": [
    "from tensorflow import keras\n",
    "\n",
    "base_model = keras.applications.VGG16(\n",
    "    weights='imagenet',\n",
    "    input_shape=(224, 224, 3),\n",
    "    include_top=False)"
   ]
  },
  {
   "cell_type": "markdown",
   "metadata": {},
   "source": [
    "## Freeze Base Model"
   ]
  },
  {
   "cell_type": "markdown",
   "metadata": {},
   "source": [
    "Next, we suggest freezing the base model, as done in [notebook 05b](05b_presidential_doggy_door.ipynb). This is done so that all the learning from the ImageNet dataset does not get destroyed in the initial training."
   ]
  },
  {
   "cell_type": "code",
   "execution_count": 2,
   "metadata": {},
   "outputs": [],
   "source": [
    "# Freeze base model\n",
    "base_model.trainable = False"
   ]
  },
  {
   "cell_type": "markdown",
   "metadata": {},
   "source": [
    "## Add Layers to Model"
   ]
  },
  {
   "cell_type": "markdown",
   "metadata": {},
   "source": [
    "Now it's time to add layers to the pretrained model. [Notebook 05b](05b_presidential_doggy_door.ipynb) can be used as a guide. Pay close attention to the last dense layer and make sure it has the correct number of neurons to classify the different types of fruit."
   ]
  },
  {
   "cell_type": "code",
   "execution_count": 3,
   "metadata": {},
   "outputs": [],
   "source": [
    "# Create inputs with correct shape\n",
    "inputs = keras.Input(shape=(224, 224, 3))\n",
    "\n",
    "x = base_model(inputs, training=False)\n",
    "\n",
    "# Add pooling layer or flatten layer\n",
    "x = keras.layers.GlobalAveragePooling2D()(x)\n",
    "\n",
    "# Add final dense layer\n",
    "outputs = keras.layers.Dense(6, activation = 'softmax')(x)\n",
    "\n",
    "# Combine inputs and outputs to create model\n",
    "model = keras.Model(inputs, outputs)"
   ]
  },
  {
   "cell_type": "code",
   "execution_count": 4,
   "metadata": {},
   "outputs": [
    {
     "name": "stdout",
     "output_type": "stream",
     "text": [
      "Model: \"model\"\n",
      "_________________________________________________________________\n",
      "Layer (type)                 Output Shape              Param #   \n",
      "=================================================================\n",
      "input_2 (InputLayer)         [(None, 224, 224, 3)]     0         \n",
      "_________________________________________________________________\n",
      "vgg16 (Model)                (None, 7, 7, 512)         14714688  \n",
      "_________________________________________________________________\n",
      "global_average_pooling2d (Gl (None, 512)               0         \n",
      "_________________________________________________________________\n",
      "dense (Dense)                (None, 6)                 3078      \n",
      "=================================================================\n",
      "Total params: 14,717,766\n",
      "Trainable params: 3,078\n",
      "Non-trainable params: 14,714,688\n",
      "_________________________________________________________________\n"
     ]
    }
   ],
   "source": [
    "model.summary()"
   ]
  },
  {
   "cell_type": "markdown",
   "metadata": {},
   "source": [
    "## Compile Model"
   ]
  },
  {
   "cell_type": "markdown",
   "metadata": {},
   "source": [
    "Now it's time to compile the model with loss and metrics options. Remember that we're training on a number of different categories, rather than a binary classification problem."
   ]
  },
  {
   "cell_type": "code",
   "execution_count": 5,
   "metadata": {},
   "outputs": [],
   "source": [
    "model.compile(loss = 'categorical_crossentropy'  , metrics = ['accuracy'])"
   ]
  },
  {
   "cell_type": "markdown",
   "metadata": {},
   "source": [
    "## Augment the Data"
   ]
  },
  {
   "cell_type": "markdown",
   "metadata": {},
   "source": [
    "If you'd like, try to augment the data to improve the dataset. Feel free to look at [notebook 04a](04a_asl_augmentation.ipynb) and [notebook 05b](05b_presidential_doggy_door.ipynb) for augmentation examples. There is also documentation for the [Keras ImageDataGenerator class](https://keras.io/api/preprocessing/image/#imagedatagenerator-class). This step is optional, but it may be helpful to get to 92% accuracy."
   ]
  },
  {
   "cell_type": "code",
   "execution_count": 10,
   "metadata": {},
   "outputs": [],
   "source": [
    "from tensorflow.keras.preprocessing.image import ImageDataGenerator\n",
    "\n",
    "datagen = ImageDataGenerator(\n",
    "    rotation_range=10,  # randomly rotate images in the range (degrees, 0 to 180)\n",
    "    zoom_range=0.1,  # Randomly zoom image\n",
    "    width_shift_range=0.1,  # randomly shift images horizontally (fraction of total width)\n",
    "    height_shift_range=0.1,  # randomly shift images vertically (fraction of total height)\n",
    "    horizontal_flip=True,  # randomly flip images horizontally\n",
    "    vertical_flip=False, # Don't randomly flip images vertically\n",
    ")  "
   ]
  },
  {
   "cell_type": "markdown",
   "metadata": {},
   "source": [
    "## Load Dataset"
   ]
  },
  {
   "cell_type": "markdown",
   "metadata": {},
   "source": [
    "Now it's time to load the train and validation datasets. Pick the right folders, as well as the right `target_size` of the images (it needs to match the height and width input of the model you've created). If you'd like a reference, you can check out [notebook 05b](05b_presidential_doggy_door.ipynb)."
   ]
  },
  {
   "cell_type": "code",
   "execution_count": 11,
   "metadata": {},
   "outputs": [
    {
     "name": "stdout",
     "output_type": "stream",
     "text": [
      "Found 1182 images belonging to 6 classes.\n",
      "Found 329 images belonging to 6 classes.\n"
     ]
    }
   ],
   "source": [
    "# load and iterate training dataset\n",
    "train_it = datagen.flow_from_directory('data/fruits/train/', \n",
    "                                       target_size=(224, 224), \n",
    "                                       color_mode='rgb', \n",
    "                                       class_mode=\"categorical\")\n",
    "# load and iterate validation dataset\n",
    "valid_it = datagen.flow_from_directory('data/fruits/valid', \n",
    "                                      target_size=(224,224), \n",
    "                                      color_mode='rgb', \n",
    "                                      class_mode=\"categorical\")"
   ]
  },
  {
   "cell_type": "markdown",
   "metadata": {},
   "source": [
    "## Train the Model"
   ]
  },
  {
   "cell_type": "markdown",
   "metadata": {},
   "source": [
    "Time to train the model! Pass the `train` and `valid` iterators into the `fit` function, as well as setting your desired number of epochs."
   ]
  },
  {
   "cell_type": "code",
   "execution_count": 12,
   "metadata": {},
   "outputs": [
    {
     "name": "stdout",
     "output_type": "stream",
     "text": [
      "Epoch 1/20\n",
      "37/36 [==============================] - 28s 758ms/step - loss: 3.6342 - accuracy: 0.3536 - val_loss: 1.5389 - val_accuracy: 0.5866\n",
      "Epoch 2/20\n",
      "37/36 [==============================] - 21s 558ms/step - loss: 1.0046 - accuracy: 0.7124 - val_loss: 0.7553 - val_accuracy: 0.7720\n",
      "Epoch 3/20\n",
      "37/36 [==============================] - 21s 559ms/step - loss: 0.5287 - accuracy: 0.8401 - val_loss: 0.3861 - val_accuracy: 0.8693\n",
      "Epoch 4/20\n",
      "37/36 [==============================] - 21s 558ms/step - loss: 0.3261 - accuracy: 0.9027 - val_loss: 0.3229 - val_accuracy: 0.8936\n",
      "Epoch 5/20\n",
      "37/36 [==============================] - 21s 559ms/step - loss: 0.2287 - accuracy: 0.9272 - val_loss: 0.2634 - val_accuracy: 0.9058\n",
      "Epoch 6/20\n",
      "37/36 [==============================] - 21s 564ms/step - loss: 0.1945 - accuracy: 0.9374 - val_loss: 0.2973 - val_accuracy: 0.9027\n",
      "Epoch 7/20\n",
      "37/36 [==============================] - 21s 557ms/step - loss: 0.1483 - accuracy: 0.9501 - val_loss: 0.2507 - val_accuracy: 0.9210\n",
      "Epoch 8/20\n",
      "37/36 [==============================] - 20s 541ms/step - loss: 0.1038 - accuracy: 0.9645 - val_loss: 0.2676 - val_accuracy: 0.9301\n",
      "Epoch 9/20\n",
      "37/36 [==============================] - 20s 534ms/step - loss: 0.0936 - accuracy: 0.9704 - val_loss: 0.2882 - val_accuracy: 0.9149\n",
      "Epoch 10/20\n",
      "37/36 [==============================] - 20s 536ms/step - loss: 0.0832 - accuracy: 0.9653 - val_loss: 0.1829 - val_accuracy: 0.9422\n",
      "Epoch 11/20\n",
      "37/36 [==============================] - 20s 533ms/step - loss: 0.0664 - accuracy: 0.9729 - val_loss: 0.1963 - val_accuracy: 0.9544\n",
      "Epoch 12/20\n",
      "37/36 [==============================] - 20s 550ms/step - loss: 0.0524 - accuracy: 0.9831 - val_loss: 0.2291 - val_accuracy: 0.9301\n",
      "Epoch 13/20\n",
      "37/36 [==============================] - 21s 556ms/step - loss: 0.0685 - accuracy: 0.9738 - val_loss: 0.1946 - val_accuracy: 0.9362\n",
      "Epoch 14/20\n",
      "37/36 [==============================] - 20s 551ms/step - loss: 0.0380 - accuracy: 0.9890 - val_loss: 0.1275 - val_accuracy: 0.9544\n",
      "Epoch 15/20\n",
      "37/36 [==============================] - 20s 552ms/step - loss: 0.0390 - accuracy: 0.9848 - val_loss: 0.2366 - val_accuracy: 0.9362\n",
      "Epoch 16/20\n",
      "37/36 [==============================] - 20s 534ms/step - loss: 0.0500 - accuracy: 0.9839 - val_loss: 0.1394 - val_accuracy: 0.9544\n",
      "Epoch 17/20\n",
      "37/36 [==============================] - 20s 533ms/step - loss: 0.0350 - accuracy: 0.9873 - val_loss: 0.1289 - val_accuracy: 0.9544\n",
      "Epoch 18/20\n",
      "37/36 [==============================] - 20s 536ms/step - loss: 0.0405 - accuracy: 0.9865 - val_loss: 0.1422 - val_accuracy: 0.9514\n",
      "Epoch 19/20\n",
      "37/36 [==============================] - 20s 531ms/step - loss: 0.0302 - accuracy: 0.9882 - val_loss: 0.1769 - val_accuracy: 0.9605\n",
      "Epoch 20/20\n",
      "37/36 [==============================] - 20s 531ms/step - loss: 0.0264 - accuracy: 0.9898 - val_loss: 0.1645 - val_accuracy: 0.9635\n"
     ]
    },
    {
     "data": {
      "text/plain": [
       "<tensorflow.python.keras.callbacks.History at 0x7fb7c4172d68>"
      ]
     },
     "execution_count": 12,
     "metadata": {},
     "output_type": "execute_result"
    }
   ],
   "source": [
    "model.fit(train_it,\n",
    "          validation_data=valid_it,\n",
    "          steps_per_epoch=train_it.samples/train_it.batch_size,\n",
    "          validation_steps=valid_it.samples/valid_it.batch_size,\n",
    "          epochs=20)"
   ]
  },
  {
   "cell_type": "markdown",
   "metadata": {},
   "source": [
    "## Unfreeze Model for Fine Tuning"
   ]
  },
  {
   "cell_type": "markdown",
   "metadata": {},
   "source": [
    "If you have reached 92% validation accuracy already, this next step is optional. If not, we suggest fine tuning the model with a very low learning rate."
   ]
  },
  {
   "cell_type": "code",
   "execution_count": 13,
   "metadata": {},
   "outputs": [],
   "source": [
    "# Unfreeze the base model\n",
    "base_model.trainable = True\n",
    "\n",
    "# Compile the model with a low learning rate\n",
    "model.compile(optimizer=keras.optimizers.RMSprop(learning_rate = .00001),\n",
    "              loss = keras.losses.BinaryCrossentropy(from_logits=True) , \n",
    "              metrics = [keras.metrics.BinaryAccuracy()])"
   ]
  },
  {
   "cell_type": "code",
   "execution_count": 14,
   "metadata": {},
   "outputs": [
    {
     "name": "stdout",
     "output_type": "stream",
     "text": [
      "Epoch 1/10\n",
      "37/36 [==============================] - 36s 977ms/step - loss: 0.6351 - binary_accuracy: 0.9907 - val_loss: 0.6354 - val_binary_accuracy: 0.9878\n",
      "Epoch 2/10\n",
      "37/36 [==============================] - 21s 579ms/step - loss: 0.6316 - binary_accuracy: 0.9969 - val_loss: 0.6385 - val_binary_accuracy: 0.9818\n",
      "Epoch 3/10\n",
      "37/36 [==============================] - 21s 575ms/step - loss: 0.6322 - binary_accuracy: 0.9961 - val_loss: 0.6366 - val_binary_accuracy: 0.9868\n",
      "Epoch 4/10\n",
      "37/36 [==============================] - 22s 581ms/step - loss: 0.6315 - binary_accuracy: 0.9969 - val_loss: 0.6336 - val_binary_accuracy: 0.9929\n",
      "Epoch 5/10\n",
      "37/36 [==============================] - 22s 585ms/step - loss: 0.6312 - binary_accuracy: 0.9975 - val_loss: 0.6331 - val_binary_accuracy: 0.9939\n",
      "Epoch 6/10\n",
      "37/36 [==============================] - 21s 574ms/step - loss: 0.6319 - binary_accuracy: 0.9961 - val_loss: 0.6420 - val_binary_accuracy: 0.9777\n",
      "Epoch 7/10\n",
      "37/36 [==============================] - 21s 559ms/step - loss: 0.6315 - binary_accuracy: 0.9969 - val_loss: 0.6355 - val_binary_accuracy: 0.9878\n",
      "Epoch 8/10\n",
      "37/36 [==============================] - 21s 558ms/step - loss: 0.6310 - binary_accuracy: 0.9980 - val_loss: 0.6343 - val_binary_accuracy: 0.9909\n",
      "Epoch 9/10\n",
      "37/36 [==============================] - 21s 568ms/step - loss: 0.6311 - binary_accuracy: 0.9977 - val_loss: 0.6342 - val_binary_accuracy: 0.9924\n",
      "Epoch 10/10\n",
      "37/36 [==============================] - 21s 563ms/step - loss: 0.6306 - binary_accuracy: 0.9986 - val_loss: 0.6383 - val_binary_accuracy: 0.9818\n"
     ]
    },
    {
     "data": {
      "text/plain": [
       "<tensorflow.python.keras.callbacks.History at 0x7fb86e3b4160>"
      ]
     },
     "execution_count": 14,
     "metadata": {},
     "output_type": "execute_result"
    }
   ],
   "source": [
    "model.fit(train_it,\n",
    "          validation_data=valid_it,\n",
    "          steps_per_epoch=train_it.samples/train_it.batch_size,\n",
    "          validation_steps=valid_it.samples/valid_it.batch_size,\n",
    "          epochs=10)"
   ]
  },
  {
   "cell_type": "markdown",
   "metadata": {},
   "source": [
    "## Evaluate the Model"
   ]
  },
  {
   "cell_type": "markdown",
   "metadata": {},
   "source": [
    "Hopefully, you now have a model that has a validation accuracy of 92% or higher. If not, you may want to go back and either run more epochs of training, or adjust your data augmentation. \n",
    "\n",
    "Once you are satisfied with the validation accuracy, evaluate the model by executing the following cell. The evaluate function will return a tuple, where the first value is your loss, and the second value is your accuracy. To pass, the model will need have an accuracy value of `92% or higher`. "
   ]
  },
  {
   "cell_type": "code",
   "execution_count": 15,
   "metadata": {},
   "outputs": [
    {
     "name": "stdout",
     "output_type": "stream",
     "text": [
      "11/10 [================================] - 4s 344ms/step - loss: 0.6372 - binary_accuracy: 0.9868\n"
     ]
    },
    {
     "data": {
      "text/plain": [
       "[0.637199878692627, 0.9868288636207581]"
      ]
     },
     "execution_count": 15,
     "metadata": {},
     "output_type": "execute_result"
    }
   ],
   "source": [
    "model.evaluate(valid_it, steps=valid_it.samples/valid_it.batch_size)"
   ]
  },
  {
   "cell_type": "markdown",
   "metadata": {},
   "source": [
    "## Run the Assessment"
   ]
  },
  {
   "cell_type": "markdown",
   "metadata": {},
   "source": [
    "To assess your model run the following two cells.\n",
    "\n",
    "**NOTE:** `run_assessment` assumes your model is named `model` and your validation data iterator is called `valid_it`. If for any reason you have modified these variable names, please update the names of the arguments passed to `run_assessment`."
   ]
  },
  {
   "cell_type": "code",
   "execution_count": 16,
   "metadata": {},
   "outputs": [],
   "source": [
    "from run_assessment import run_assessment"
   ]
  },
  {
   "cell_type": "code",
   "execution_count": null,
   "metadata": {},
   "outputs": [
    {
     "name": "stdout",
     "output_type": "stream",
     "text": [
      "Evaluating model 5 times to obtain average accuracy...\n",
      "\n",
      "11/10 [================================] - 4s 352ms/step - loss: 0.6353 - binary_accuracy: 0.9909\n",
      "11/10 [================================] - 4s 384ms/step - loss: 0.6388 - binary_accuracy: 0.9828\n",
      "11/10 [================================] - 4s 345ms/step - loss: 0.6381 - binary_accuracy: 0.9838\n",
      "11/10 [================================] - 4s 347ms/step - loss: 0.6385 - binary_accuracy: 0.9818\n",
      " 2/10 [====>.........................] - ETA: 1s - loss: 0.6396 - binary_accuracy: 0.9792"
     ]
    }
   ],
   "source": [
    "run_assessment(model, valid_it)"
   ]
  },
  {
   "cell_type": "markdown",
   "metadata": {},
   "source": [
    "## Generate a Certificate"
   ]
  },
  {
   "cell_type": "markdown",
   "metadata": {},
   "source": [
    "If you passed the assessment, please return to the course page (shown below) and click the \"ASSESS TASK\" button, which will generate your certificate for the course."
   ]
  },
  {
   "cell_type": "markdown",
   "metadata": {},
   "source": [
    "<img src=\"./images/assess_task.png\" style=\"width: 800px;\">"
   ]
  }
 ],
 "metadata": {
  "kernelspec": {
   "display_name": "Python 3",
   "language": "python",
   "name": "python3"
  },
  "language_info": {
   "codemirror_mode": {
    "name": "ipython",
    "version": 3
   },
   "file_extension": ".py",
   "mimetype": "text/x-python",
   "name": "python",
   "nbconvert_exporter": "python",
   "pygments_lexer": "ipython3",
   "version": "3.6.9"
  }
 },
 "nbformat": 4,
 "nbformat_minor": 4
}
